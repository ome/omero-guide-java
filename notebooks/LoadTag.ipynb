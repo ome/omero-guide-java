{
 "cells": [
  {
   "cell_type": "markdown",
   "metadata": {},
   "source": [
    "## Connect to OMERO using the Java API"
   ]
  },
  {
   "cell_type": "markdown",
   "metadata": {},
   "source": [
    "This example notebook loads the images within a given dataset and loads the Tag linked to the images."
   ]
  },
  {
   "cell_type": "code",
   "execution_count": 4,
   "metadata": {},
   "outputs": [
    {
     "data": {
      "application/vnd.jupyter.widget-view+json": {
       "model_id": "b88804d2-c5d2-4692-8029-16da7d9dd148",
       "version_major": 2,
       "version_minor": 0
      },
      "method": "display_data"
     },
     "metadata": {},
     "output_type": "display_data"
    }
   ],
   "source": [
    "%classpath add jar /tmp/omero-java/libs/*"
   ]
  },
  {
   "cell_type": "code",
   "execution_count": 25,
   "metadata": {},
   "outputs": [
    {
     "name": "stderr",
     "output_type": "stream",
     "text": [
      "image:9542 Centrin_PCNT_Cep215_20110506_Fri-1620_0_SIR_PRJ.dv\n",
      "image:9539 Centrin_PCNT_Cep215_20110506_Fri-1545_0_SIR_PRJ.dv\n"
     ]
    },
    {
     "name": "stdout",
     "output_type": "stream",
     "text": [
      "\n",
      " Tag: Mitosis\n"
     ]
    },
    {
     "name": "stderr",
     "output_type": "stream",
     "text": [
      "image:9541 Centrin_PCNT_Cep215_20110506_Fri-1608_0_SIR_PRJ.dv\n",
      "image:9540 Centrin_PCNT_Cep215_20110506_Fri-1559_0_SIR_PRJ.dv\n"
     ]
    },
    {
     "data": {
      "text/plain": [
       "null"
      ]
     },
     "execution_count": 25,
     "metadata": {},
     "output_type": "execute_result"
    }
   ],
   "source": [
    "import java.util.ArrayList;\n",
    "import java.util.Arrays;\n",
    "import java.util.Collection;\n",
    "import java.util.Iterator;\n",
    "import java.util.List;\n",
    "\n",
    "import omero.gateway.Gateway;\n",
    "import omero.gateway.LoginCredentials;\n",
    "import omero.gateway.SecurityContext;\n",
    "import omero.gateway.facility.BrowseFacility;\n",
    "import omero.gateway.facility.MetadataFacility;\n",
    "import omero.log.SimpleLogger;\n",
    "import omero.gateway.model.ExperimenterData;\n",
    "import omero.gateway.model.ImageData;\n",
    "import omero.gateway.model.AnnotationData;\n",
    "import omero.gateway.model.TagAnnotationData;\n",
    "\n",
    "\n",
    "LoginCredentials cred = new LoginCredentials(\"username\", \"password\", \"wss://workshop.openmicroscopy.org/omero-ws\");\n",
    "SimpleLogger simpleLogger = new SimpleLogger();\n",
    "\n",
    "Gateway gateway = new Gateway(simpleLogger);\n",
    "ExperimenterData user = gateway.connect(cred);\n",
    "\n",
    "//for every subsequent call to the server you'll need the\n",
    "//SecurityContext for a certain group; in this case create\n",
    "//a SecurityContext for the user's default group.\n",
    "SecurityContext ctx = new SecurityContext(user.getGroupId());\n",
    "\n",
    "long datasetId = 2920;\n",
    "BrowseFacility browse = gateway.getFacility(BrowseFacility.class);\n",
    "Collection<ImageData> images = browse.getImagesForDatasets(ctx, Arrays.asList(datasetId));\n",
    "Iterator<ImageData> j = images.iterator();\n",
    "ImageData image;\n",
    "\n",
    "// Load the tags linked to the image if any\n",
    "List types = new ArrayList();\n",
    "types.add(TagAnnotationData.class);\n",
    "List<Long> userIds = new ArrayList<Long>();\n",
    "//userIds.add(user.getId());\n",
    "\n",
    "while (j.hasNext()) {\n",
    "    image = j.next();\n",
    "    System.out.println(\"image:\" + image.getId() + \" \" + image.getName());\n",
    "    MetadataFacility metadata = gateway.getFacility(MetadataFacility.class);\n",
    "    List<AnnotationData> annotations = metadata.getAnnotations(ctx, image, types, userIds);\n",
    "    for (AnnotationData annotation : annotations) {\n",
    "        TagAnnotationData tag = (TagAnnotationData) annotation;\n",
    "        System.out.println(\"\\n Tag: \"+tag.getTagValue());\n",
    "    }\n",
    "}\n",
    "gateway.disconnect();"
   ]
  },
  {
   "cell_type": "markdown",
   "metadata": {},
   "source": [
    "### License (BSD 2-Clause)\n",
    "\n",
    "Copyright (c) 2021, University of Dundee All rights reserved.\n",
    "\n",
    "Redistribution and use in source and binary forms, with or without modification, are permitted provided that the following conditions are met:\n",
    "\n",
    "Redistributions of source code must retain the above copyright notice, this list of conditions and the following disclaimer.\n",
    "Redistributions in binary form must reproduce the above copyright notice, this list of conditions and the following disclaimer in the documentation and/or other materials provided with the distribution.\n",
    "THIS SOFTWARE IS PROVIDED BY THE COPYRIGHT HOLDERS AND CONTRIBUTORS \"AS IS\" AND ANY EXPRESS OR IMPLIED WARRANTIES, INCLUDING, BUT NOT LIMITED TO, THE IMPLIED WARRANTIES OF MERCHANTABILITY AND FITNESS FOR A PARTICULAR PURPOSE ARE DISCLAIMED. IN NO EVENT SHALL THE COPYRIGHT OWNER OR CONTRIBUTORS BE LIABLE FOR ANY DIRECT, INDIRECT, INCIDENTAL, SPECIAL, EXEMPLARY, OR CONSEQUENTIAL DAMAGES (INCLUDING, BUT NOT LIMITED TO, PROCUREMENT OF SUBSTITUTE GOODS OR SERVICES; LOSS OF USE, DATA, OR PROFITS; OR BUSINESS INTERRUPTION) HOWEVER CAUSED AND ON ANY THEORY OF LIABILITY, WHETHER IN CONTRACT, STRICT LIABILITY, OR TORT (INCLUDING NEGLIGENCE OR OTHERWISE) ARISING IN ANY WAY OUT OF THE USE OF THIS SOFTWARE, EVEN IF ADVISED OF THE POSSIBILITY OF SUCH DAMAGE."
   ]
  }
 ],
 "metadata": {
  "kernelspec": {
   "display_name": "Java",
   "language": "java",
   "name": "java"
  },
  "language_info": {
   "codemirror_mode": "text/x-java",
   "file_extension": ".java",
   "mimetype": "",
   "name": "Java",
   "nbconverter_exporter": "",
   "version": "1.8.0_121"
  },
  "toc": {
   "base_numbering": 1,
   "nav_menu": {},
   "number_sections": false,
   "sideBar": false,
   "skip_h1_title": false,
   "title_cell": "Table of Contents",
   "title_sidebar": "Contents",
   "toc_cell": false,
   "toc_position": {},
   "toc_section_display": false,
   "toc_window_display": false
  }
 },
 "nbformat": 4,
 "nbformat_minor": 2
}
